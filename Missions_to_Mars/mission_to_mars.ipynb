{
 "cells": [
  {
   "cell_type": "code",
   "execution_count": 1,
   "id": "01a6554e",
   "metadata": {},
   "outputs": [],
   "source": [
    "from bs4 import BeautifulSoup\n",
    "from splinter import Browser\n",
    "from webdriver_manager.chrome import ChromeDriverManager\n",
    "from pprint import pprint\n",
    "import pymongo\n",
    "import pandas as pd\n",
    "import requests"
   ]
  },
  {
   "cell_type": "code",
   "execution_count": 2,
   "id": "74827c4e",
   "metadata": {},
   "outputs": [
    {
     "name": "stderr",
     "output_type": "stream",
     "text": [
      "\n",
      "\n",
      "====== WebDriver manager ======\n",
      "Could not get version for google-chrome with the command:  powershell \"$ErrorActionPreference='silentlycontinue' ; (Get-Item -Path \"$env:PROGRAMFILES\\Google\\Chrome\\Application\\chrome.exe\").VersionInfo.FileVersion ; if (-not $? -or $? -match $error) { (Get-Item -Path \"$env:PROGRAMFILES(x86)\\Google\\Chrome\\Application\\chrome.exe\").VersionInfo.FileVersion } if (-not $? -or $? -match $error) { (Get-Item -Path \"$env:LOCALAPPDATA\\Google\\Chrome\\Application\\chrome.exe\").VersionInfo.FileVersion } if (-not $? -or $? -match $error) { reg query \"HKCU\\SOFTWARE\\Google\\Chrome\\BLBeacon\" /v version } if (-not $? -or $? -match $error) { reg query \"HKLM\\SOFTWARE\\Wow6432Node\\Microsoft\\Windows\\CurrentVersion\\Uninstall\\Google Chrome\" /v version }\"\n",
      "Current google-chrome version is UNKNOWN\n",
      "Get LATEST chromedriver version for UNKNOWN google-chrome\n",
      "Trying to download new driver from https://chromedriver.storage.googleapis.com/99.0.4844.51/chromedriver_win32.zip\n",
      "Driver has been saved in cache [C:\\Users\\Cheng\\.wdm\\drivers\\chromedriver\\win32\\99.0.4844.51]\n"
     ]
    }
   ],
   "source": [
    "executable_path = {'executable_path': ChromeDriverManager().install()}\n",
    "browser = Browser('chrome', **executable_path, headless=False)"
   ]
  },
  {
   "cell_type": "markdown",
   "id": "4bc9758e",
   "metadata": {},
   "source": [
    "# Step 1 - Scraping\n",
    "\n",
    "* Initial scraping using Jupyter Notebook. Link provided in instructions for \"https://redplanetscience.com/\" did not appear to have the correct background links to search. Found \"https://mars.nasa.gov/news/\" to have the same information but the right components in the html code to scrape."
   ]
  },
  {
   "cell_type": "code",
   "execution_count": 3,
   "id": "1613417a",
   "metadata": {},
   "outputs": [],
   "source": [
    "url = ('https://mars.nasa.gov/news/')\n",
    "\n",
    "response = requests.get(url)\n",
    "soup = BeautifulSoup(response.text, 'html.parser')"
   ]
  },
  {
   "cell_type": "code",
   "execution_count": 4,
   "id": "056bf78c",
   "metadata": {},
   "outputs": [],
   "source": [
    "#print(soup.prettify())"
   ]
  },
  {
   "cell_type": "code",
   "execution_count": 5,
   "id": "1a6c04c7",
   "metadata": {},
   "outputs": [],
   "source": [
    "# pull titles from website\n",
    "news_title = soup.find_all('div', class_=\"content_title\")\n",
    "#print(news_title)"
   ]
  },
  {
   "cell_type": "code",
   "execution_count": 6,
   "id": "c519b083",
   "metadata": {},
   "outputs": [],
   "source": [
    "# pull body from website\n",
    "news_p = soup.find_all('div', class_=\"rollover_description_inner\")\n",
    "#print(news_p)"
   ]
  },
  {
   "cell_type": "code",
   "execution_count": 7,
   "id": "9ccb1258",
   "metadata": {},
   "outputs": [
    {
     "name": "stdout",
     "output_type": "stream",
     "text": [
      "----------------\n",
      "\n",
      "NASA's Angie Jackman Works to Develop Rocket That Will Bring Mars Samples to Earth\n",
      "\n",
      "\n",
      "Meet the project manager of the first rocket to launch from the surface of another planet, the Mars Ascent Vehicle.\n",
      "\n",
      "----------------\n",
      "\n",
      "NASA Selects Developer for Rocket to Retrieve First Samples From Mars\n",
      "\n",
      "\n",
      "The award brings NASA a step closer to the first robotic round trip to bring samples safely to Earth through the Mars Sample Return Program.\n",
      "\n",
      "----------------\n",
      "\n",
      "NASA's MRO Finds Water Flowed on Mars Longer Than Previously Thought\n",
      "\n",
      "\n",
      "Caltech researchers used the Mars Reconnaissance Orbiter to determine that surface water left salt minerals behind as recently as 2 billion years ago.\n",
      "\n",
      "----------------\n",
      "\n",
      "NASA's Perseverance Mars Rover Makes Surprising Discoveries \n",
      "\n",
      "\n",
      "The findings by rover scientists highlight the diversity of samples geologists and future scientists associated with the agency’s Mars Sample Return program will have to study.\n",
      "\n",
      "----------------\n",
      "\n",
      "Team Behind NASA's Newest Mars Rover to Honor Persevering Students\n",
      "\n",
      "\n",
      "Middle schoolers who have pushed past obstacles to reach their academic goals will be celebrated by the mission team with a personal message beamed down from NASA’s Perseverance rover.\n",
      "\n",
      "----------------\n",
      "\n",
      "NASA's Perseverance Sheds More Light on Jezero Crater's Watery Past\n",
      "\n",
      "\n",
      "Pictures from NASA’s latest six-wheeler on the Red Planet suggest the area’s history experienced significant flooding events.\n",
      "\n"
     ]
    }
   ],
   "source": [
    "#combine both title and their bodies\n",
    "results = soup.find_all('div', class_=\"slide\")\n",
    "for result in results:\n",
    "    titles = result.find('div', class_=\"content_title\")\n",
    "    title = titles.find('a').text\n",
    "    bodies = result.find('div', class_=\"rollover_description\")\n",
    "    body = bodies.find('div', class_=\"rollover_description_inner\").text\n",
    "    print('----------------')\n",
    "    print(title)\n",
    "    print(body)"
   ]
  },
  {
   "cell_type": "markdown",
   "id": "c0279291",
   "metadata": {},
   "source": [
    "# JPL Mars Space Image\n",
    "* Visit the url for the Featured Space Image page here.\n",
    "\n",
    "* Use splinter to navigate the site and find the image url for the current Featured Mars Image and assign the url string to a variable called featured_image_url.\n",
    "\n",
    "* Make sure to find the image url to the full size .jpg image.\n",
    "\n",
    "* Make sure to save a complete url string for this image."
   ]
  },
  {
   "cell_type": "code",
   "execution_count": null,
   "id": "c1029a10",
   "metadata": {},
   "outputs": [],
   "source": [
    "url = ('https://www.jpl.nasa.gov/images?query=&page=1&topics=Mars')\n",
    "\n",
    "response = requests.get(url)\n",
    "soup = BeautifulSoup(response.text, 'html.parser')"
   ]
  },
  {
   "cell_type": "code",
   "execution_count": null,
   "id": "1911c5b2",
   "metadata": {},
   "outputs": [],
   "source": [
    "print(soup.prettify())"
   ]
  },
  {
   "cell_type": "code",
   "execution_count": null,
   "id": "7b0cc187",
   "metadata": {},
   "outputs": [],
   "source": [
    "images = soup.find_all('img', class_=\"BaseImage object-contain\")\n",
    "print(images)"
   ]
  },
  {
   "cell_type": "code",
   "execution_count": null,
   "id": "04f6f15a",
   "metadata": {},
   "outputs": [],
   "source": [
    "# pull image link\n",
    "pic_src = []\n",
    "for image in images:\n",
    "    pic = image['data-src']\n",
    "\n",
    "featured_image_url = pic\n",
    "featured_image_url"
   ]
  },
  {
   "cell_type": "markdown",
   "id": "1f15645f",
   "metadata": {},
   "source": [
    "# Mars Facts\n",
    "* Visit the Mars Facts webpage here and use Pandas to scrape the table containing facts about the planet including Diameter, Mass, etc.\n",
    "\n",
    "\n",
    "* Use Pandas to convert the data to a HTML table string."
   ]
  },
  {
   "cell_type": "code",
   "execution_count": null,
   "id": "6b422683",
   "metadata": {},
   "outputs": [],
   "source": [
    "url = ('https://galaxyfacts-mars.com/')\n",
    "\n",
    "response = requests.get(url)\n",
    "soup = BeautifulSoup(response.text, 'html.parser')"
   ]
  },
  {
   "cell_type": "code",
   "execution_count": null,
   "id": "e4e07d0e",
   "metadata": {},
   "outputs": [],
   "source": [
    "print(soup.prettify())"
   ]
  },
  {
   "cell_type": "code",
   "execution_count": null,
   "id": "48e34f12",
   "metadata": {},
   "outputs": [],
   "source": [
    "df = pd.read_html('https://galaxyfacts-mars.com/')[0]\n",
    "df.head()"
   ]
  },
  {
   "cell_type": "code",
   "execution_count": null,
   "id": "67e25d5b",
   "metadata": {},
   "outputs": [],
   "source": [
    "df.columns=['Description', 'Mars', 'Earth']\n",
    "#drop earth column (not relevant)\n",
    "df.drop('Earth', inplace=True, axis=1)\n",
    "#drop first row (not relevant)\n",
    "df.drop(index=df.index[0], axis=0, inplace=True)\n",
    "#reset the index\n",
    "df.set_index('Description', inplace=True)"
   ]
  },
  {
   "cell_type": "code",
   "execution_count": null,
   "id": "4525bcd4",
   "metadata": {},
   "outputs": [],
   "source": [
    "df.head()"
   ]
  },
  {
   "cell_type": "code",
   "execution_count": null,
   "id": "8e1d7dcd",
   "metadata": {},
   "outputs": [],
   "source": [
    "df.to_html()"
   ]
  },
  {
   "cell_type": "markdown",
   "id": "78330b18",
   "metadata": {},
   "source": [
    "# Mars Hemisphere\n",
    "* Visit the Astrogeology site here to obtain high resolution images for each of Mar's hemispheres.\n",
    "\n",
    "* You will need to click each of the links to the hemispheres in order to find the image url to the full resolution image.\n",
    "\n",
    "* Save both the image url string for the full resolution hemisphere image, and the Hemisphere title containing the hemisphere name. Use a Python dictionary to store the data using the keys img_url and title.\n",
    "\n",
    "* Append the dictionary with the image url string and the hemisphere title to a list. This list will contain one dictionary for each hemisphere."
   ]
  },
  {
   "cell_type": "code",
   "execution_count": null,
   "id": "aba6120c",
   "metadata": {},
   "outputs": [],
   "source": [
    "url = 'https://marshemispheres.com/'\n",
    "response = requests.get(url)\n",
    "soup = BeautifulSoup(response.text, 'html.parser')"
   ]
  },
  {
   "cell_type": "code",
   "execution_count": null,
   "id": "4c94cc1f",
   "metadata": {},
   "outputs": [],
   "source": [
    "print(soup.prettify())"
   ]
  },
  {
   "cell_type": "code",
   "execution_count": null,
   "id": "3738fe6f",
   "metadata": {},
   "outputs": [],
   "source": [
    "#browser.visit(url)"
   ]
  },
  {
   "cell_type": "code",
   "execution_count": null,
   "id": "19360352",
   "metadata": {},
   "outputs": [],
   "source": [
    "# 2. Create a list to hold the images and titles.\n",
    "hemisphere_image_urls = []\n",
    "\n",
    "# 3. Write code to retrieve the image urls and titles for each hemisphere.\n",
    "for i in range(4):\n",
    "    #create empty dictionary\n",
    "    hemispheres = {}\n",
    "    browser.find_by_css('a.product-item h3')[i].click()\n",
    "    element = browser.links.find_by_text('Sample').first\n",
    "    img_url = element['href']\n",
    "    title = browser.find_by_css(\"h2.title\").text\n",
    "    hemispheres[\"img_url\"] = img_url\n",
    "    hemispheres[\"title\"] = title\n",
    "    hemisphere_image_urls.append(hemispheres)\n",
    "    browser.back()"
   ]
  },
  {
   "cell_type": "code",
   "execution_count": null,
   "id": "7f49bbc9",
   "metadata": {},
   "outputs": [],
   "source": [
    "hemisphere_image_urls"
   ]
  },
  {
   "cell_type": "code",
   "execution_count": null,
   "id": "185c01b1",
   "metadata": {},
   "outputs": [],
   "source": [
    "browser.quit()"
   ]
  },
  {
   "cell_type": "code",
   "execution_count": null,
   "id": "ad36f62a",
   "metadata": {},
   "outputs": [],
   "source": []
  }
 ],
 "metadata": {
  "kernelspec": {
   "display_name": "Python 3",
   "language": "python",
   "name": "python3"
  },
  "language_info": {
   "codemirror_mode": {
    "name": "ipython",
    "version": 3
   },
   "file_extension": ".py",
   "mimetype": "text/x-python",
   "name": "python",
   "nbconvert_exporter": "python",
   "pygments_lexer": "ipython3",
   "version": "3.8.8"
  }
 },
 "nbformat": 4,
 "nbformat_minor": 5
}
